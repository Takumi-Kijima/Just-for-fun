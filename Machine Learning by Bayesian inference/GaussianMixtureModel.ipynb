{
 "cells": [
  {
   "cell_type": "code",
   "execution_count": 1,
   "metadata": {},
   "outputs": [],
   "source": [
    "import numpy as np\n",
    "import matplotlib.pyplot as plt\n",
    "from scipy.stats import dirichlet\n",
    "from scipy.stats import gamma\n",
    "from scipy.stats import multinomial\n",
    "from scipy.stats import wishart\n",
    "from scipy.stats import multivariate_normal\n",
    "from scipy.stats import multinomial\n",
    "import pandas as pd\n",
    "import time"
   ]
  },
  {
   "cell_type": "markdown",
   "metadata": {},
   "source": [
    "In this notebook, I do Bayesian data analysis by Gaussian mixture model.\n",
    "First, I generate data. "
   ]
  },
  {
   "cell_type": "code",
   "execution_count": 2,
   "metadata": {},
   "outputs": [
    {
     "data": {
      "text/plain": [
       "<matplotlib.collections.PathCollection at 0x18af0f582e0>"
      ]
     },
     "execution_count": 2,
     "metadata": {},
     "output_type": "execute_result"
    },
    {
     "data": {
      "image/png": "[encoded data removed]",
      "text/plain": [
       "<Figure size 432x288 with 1 Axes>"
      ]
     },
     "metadata": {
      "needs_background": "light"
     },
     "output_type": "display_data"
    }
   ],
   "source": [
    "true_mean = np.array([[-2,-8],\n",
    "                    [8, -6],\n",
    "                    [2,5]])\n",
    "true_cov = np.array([[[1,.85],[.85,1]],\n",
    "                   [[2,.1],[.1,3]],\n",
    "                   [[3,-1.5],[-1.5,4]]])\n",
    "true_ratio = [.6,.1,.3]\n",
    "count=multinomial.rvs(1000, true_ratio, size=1)\n",
    "x1=multivariate_normal(true_mean[0], true_cov[0]).rvs(size=count[0][0])\n",
    "x2=multivariate_normal(true_mean[1], true_cov[1]).rvs(size=count[0][1])\n",
    "x3=multivariate_normal(true_mean[2], true_cov[2]).rvs(size=count[0][2])\n",
    "X=(np.concatenate([x1,x2,x3])).reshape(-1,2)\n",
    "plt.scatter(x1[:,0],x1[:,1])\n",
    "plt.scatter(x2[:,0],x2[:,1],color=\"black\")\n",
    "plt.scatter(x3[:,0],x3[:,1],color=\"red\")"
   ]
  },
  {
   "cell_type": "markdown",
   "metadata": {},
   "source": [
    "It looks like there are 3 clusters even if you didn't know how this data was generated."
   ]
  },
  {
   "cell_type": "code",
   "execution_count": 3,
   "metadata": {},
   "outputs": [
    {
     "data": {
      "text/plain": [
       "array([[608, 103, 289]])"
      ]
     },
     "execution_count": 3,
     "metadata": {},
     "output_type": "execute_result"
    }
   ],
   "source": [
    "count"
   ]
  },
  {
   "cell_type": "code",
   "execution_count": 4,
   "metadata": {},
   "outputs": [
    {
     "data": {
      "text/plain": [
       "(array([-2.02421796, -8.0088938 ]),\n",
       " array([ 8.08488209, -5.87010254]),\n",
       " array([2.07228914, 5.001267  ]))"
      ]
     },
     "execution_count": 4,
     "metadata": {},
     "output_type": "execute_result"
    }
   ],
   "source": [
    "x1.mean(axis=0),x2.mean(axis=0),x3.mean(axis=0)"
   ]
  },
  {
   "cell_type": "markdown",
   "metadata": {},
   "source": [
    "There are 1000 observations. <br/>\n",
    "608 are drawn from group 1, where the true means are [-2,-8] and sample means are [-2.0242, -8.0089] <br/>\n",
    "103 are drawn from group 2, where the true means are [8,-6] and sample means are [8.0849, -5.8701] <br/>\n",
    "289 are drawn from group 3, where the true means are [2,5] and sample means are [2.0723, 5.0013] <br/>"
   ]
  },
  {
   "cell_type": "code",
   "execution_count": 6,
   "metadata": {},
   "outputs": [
    {
     "name": "stdout",
     "output_type": "stream",
     "text": [
      "0 1 2 3 4 5 6 7 8 9 10 11 12 13 14 15 16 17 18 19 20 21 22 23 24 25 26 27 28 29 30 31 32 33 34 35 36 37 38 39 40 41 42 43 44 45 46 47 48 49 50 51 52 53 54 55 56 57 58 59 60 61 62 63 64 65 66 67 68 69 70 71 72 73 74 75 76 77 78 79 80 81 82 83 84 85 86 87 88 89 90 91 92 93 94 95 96 97 98 99 100 101 102 103 104 105 106 107 108 109 110 111 112 113 114 115 116 117 118 119 120 121 122 123 124 125 126 127 128 129 130 131 132 133 134 135 136 137 138 139 140 141 142 143 144 145 146 147 148 149 150 151 152 153 154 155 156 157 158 159 160 161 162 163 164 165 166 167 168 169 170 171 172 173 174 175 176 177 178 179 180 181 182 183 184 185 186 187 188 189 190 191 192 193 194 195 196 197 198 199 200 201 202 203 204 205 206 207 208 209 210 211 212 213 214 215 216 217 218 219 220 221 222 223 224 225 226 227 228 229 230 231 232 233 234 235 236 237 238 239 240 241 242 243 244 245 246 247 248 249 \n",
      "time: 66.82 sec\n"
     ]
    }
   ],
   "source": [
    "#Gibbs sampling\n",
    "N=X.shape[0]\n",
    "K=3 # # of clusters\n",
    "D=X.shape[1]\n",
    "mu = np.zeros((K,1,D)) #mean \n",
    "lmbd = np.zeros((K,D,D)) #precision matrix.lmbd[0,:,:] is D by D precision matrix for k=0\n",
    "\n",
    "m = np.random.rand(D,1)\n",
    "m_hat = np.random.rand(K,D,1)\n",
    "\n",
    "\n",
    "beta = 1\n",
    "beta_hat = np.zeros((1,K))\n",
    "nu = D\n",
    "nu_hat = np.zeros((1,K))\n",
    "W = .001\n",
    "\n",
    "alpha_hat = np.zeros((1,K))\n",
    "alpha = np.ones((1,K)) \n",
    "\n",
    "for k in range(K):\n",
    "    lmbd[k:,:] = np.identity(D)\n",
    "    \n",
    "W_hat=np.zeros((K,D,D))    \n",
    "eta = np.zeros((N,K))\n",
    "pi = np.zeros((1,K))+1/K\n",
    "s=np.zeros((N,K)) \n",
    "max_iter=250 \n",
    "warmup = 50\n",
    "mu_history=np.zeros((max_iter,K,1,D))\n",
    "lmbd_history = []\n",
    "pi_history = np.zeros((max_iter,1,K))\n",
    "start = time.time()\n",
    "for i in range(max_iter):\n",
    "    print(i, end=\" \")\n",
    "    for n in range(N):\n",
    "        \n",
    "        for k in range(K):\n",
    "            tmp=-1/2*(X[n,:]-mu[k,:,:]).dot(lmbd[k,:,:]).dot((X[n,:]-mu[k,:,:]).T) \n",
    "            tmp+= 1/2 * np.log(np.linalg.det(lmbd[k,:,:]))+ np.log(pi[0][k])\n",
    "            tmp_e = np.exp(tmp[0])[0]\n",
    "            eta[n,k]=(tmp_e)\n",
    "        eta[n,:]=(eta[n,:]/eta[n,:].sum()).round(6)\n",
    "        s[n] = multinomial.rvs(n=1, p=eta[n], size=1) \n",
    "    \n",
    "        \n",
    "  \n",
    "    inv_W_hat = np.zeros((K,D,D))\n",
    "    for k in range(K):\n",
    "        #sample lambda (precision)\n",
    "        for n in range(N):\n",
    "            inv_W_hat[k,:,:] += s[n,k] * X[n,:].reshape(D,-1) * X[n,:].reshape(1,-1)\n",
    "            \n",
    "        inv_W_hat[k,:,:] +=  beta * m.dot(m.T) - beta_hat[:,k] *  m_hat[k,:,:].dot(m_hat[k,:,:].T) + 1/W\n",
    "        W_hat[k,:,:] = np.linalg.inv(inv_W_hat[k,:,:])\n",
    "        nu_hat[:,k] = s[:,k].sum() + nu\n",
    "        lmbd[k,:,:] = wishart.rvs(df = nu_hat[:,k][0], scale = W_hat[k,:,:]) \n",
    "        \n",
    "        #sample mu \n",
    "        beta_hat[:,k] = s[:,k].sum() + beta\n",
    "        m_hat[k,:,:] = ((s[:,k].T.dot(X)).reshape(D,1)+beta*m)/beta_hat[:,k]\n",
    "        mu[k,:,:] = multivariate_normal.rvs(np.array([m_hat[k,:,:][0][0],m_hat[k,:,:][1][0]]), np.linalg.inv(beta_hat[:,k] * lmbd[k,:,:]))\n",
    "    lmbd_history.append(lmbd.copy())\n",
    "    mu_history[i,:,:,:] = mu.copy()\n",
    "    alpha_hat = s.sum(axis=0) + alpha\n",
    "    pi = dirichlet.rvs(alpha_hat[0])\n",
    "    pi_history[i,:,:]= pi.copy()\n",
    "\n",
    "end = time.time()\n",
    "t= end - start\n",
    "print(\"\\ntime:\",np.round(t,2),\"sec\")"
   ]
  },
  {
   "cell_type": "code",
   "execution_count": 7,
   "metadata": {},
   "outputs": [
    {
     "data": {
      "text/plain": [
       "(array([[[ 8.03589179, -5.77356849]],\n",
       " \n",
       "        [[-2.02125014, -7.99614241]],\n",
       " \n",
       "        [[ 2.07366932,  4.9937159 ]]]),\n",
       " array([[-2, -8],\n",
       "        [ 8, -6],\n",
       "        [ 2,  5]]))"
      ]
     },
     "execution_count": 7,
     "metadata": {},
     "output_type": "execute_result"
    }
   ],
   "source": [
    "mu_history[warmup:,:,:,:].mean(axis=0),true_mean"
   ]
  },
  {
   "cell_type": "markdown",
   "metadata": {},
   "source": [
    "These are posterior means and true means. The orders are not necessarily the same. <br/>\n",
    "The first 50 MCMC samples are discarded (warm up). <br/>\n",
    "The posterior means are close to the true means.\n"
   ]
  },
  {
   "cell_type": "code",
   "execution_count": 8,
   "metadata": {},
   "outputs": [
    {
     "data": {
      "image/png": "[encoded data removed]",
      "text/plain": [
       "<Figure size 432x288 with 1 Axes>"
      ]
     },
     "metadata": {
      "needs_background": "light"
     },
     "output_type": "display_data"
    }
   ],
   "source": [
    "i,j,k = 1,0,2\n",
    "plt.scatter(mu_history[warmup:,0,0,0],mu_history[warmup:,0,0,1])\n",
    "plt.scatter(true_mean[i][0],true_mean[i][1],color=\"red\")\n",
    "plt.legend([\"posterior\",\"true\"])\n",
    "plt.title(\"The posterior mean of cluster 1\")\n",
    "plt.show()"
   ]
  },
  {
   "cell_type": "code",
   "execution_count": 9,
   "metadata": {},
   "outputs": [
    {
     "data": {
      "image/png": "[encoded data removed]",
      "text/plain": [
       "<Figure size 432x288 with 1 Axes>"
      ]
     },
     "metadata": {
      "needs_background": "light"
     },
     "output_type": "display_data"
    }
   ],
   "source": [
    "plt.scatter(mu_history[warmup:,1,0,0],mu_history[warmup:,1,0,1])\n",
    "plt.scatter(true_mean[j][0],true_mean[j][1],color=\"red\")\n",
    "plt.legend([\"posterior\",\"true\"])\n",
    "plt.title(\"The posterior mean of cluster 2\")\n",
    "plt.show()"
   ]
  },
  {
   "cell_type": "code",
   "execution_count": 10,
   "metadata": {},
   "outputs": [
    {
     "data": {
      "image/png": "[encoded data removed]",
      "text/plain": [
       "<Figure size 432x288 with 1 Axes>"
      ]
     },
     "metadata": {
      "needs_background": "light"
     },
     "output_type": "display_data"
    }
   ],
   "source": [
    "plt.scatter(mu_history[warmup:,2,0,0],mu_history[warmup:,2,0,1])\n",
    "plt.scatter(true_mean[k][0],true_mean[k][1],color=\"red\")\n",
    "plt.legend([\"posterior\",\"true\"])\n",
    "plt.title(\"The posterior mean of cluster 3\")\n",
    "plt.show()"
   ]
  },
  {
   "cell_type": "code",
   "execution_count": 11,
   "metadata": {},
   "outputs": [
    {
     "data": {
      "text/plain": [
       "(array([0.0861, 0.1228]), array([0.5751, 0.632 ]), array([0.2663, 0.3201]))"
      ]
     },
     "execution_count": 11,
     "metadata": {},
     "output_type": "execute_result"
    }
   ],
   "source": [
    "CI0 = np.round(np.percentile(pi_history[warmup:,0,0], (2.5, 97.5)),4)\n",
    "CI1 = np.round(np.percentile(pi_history[warmup:,0,1], (2.5, 97.5)),4)\n",
    "CI2 = np.round(np.percentile(pi_history[warmup:,0,2], (2.5, 97.5)),4)\n",
    "CI0,CI1,CI2"
   ]
  },
  {
   "cell_type": "code",
   "execution_count": 12,
   "metadata": {},
   "outputs": [
    {
     "data": {
      "text/html": [
       "<div>\n",
       "<style scoped>\n",
       "    .dataframe tbody tr th:only-of-type {\n",
       "        vertical-align: middle;\n",
       "    }\n",
       "\n",
       "    .dataframe tbody tr th {\n",
       "        vertical-align: top;\n",
       "    }\n",
       "\n",
       "    .dataframe thead th {\n",
       "        text-align: right;\n",
       "    }\n",
       "</style>\n",
       "<table border=\"1\" class=\"dataframe\">\n",
       "  <thead>\n",
       "    <tr style=\"text-align: right;\">\n",
       "      <th></th>\n",
       "      <th>True ratio</th>\n",
       "      <th>95% CI of ratio</th>\n",
       "    </tr>\n",
       "  </thead>\n",
       "  <tbody>\n",
       "    <tr>\n",
       "      <th>0</th>\n",
       "      <td>0.6</td>\n",
       "      <td>[0.5751, 0.632]</td>\n",
       "    </tr>\n",
       "    <tr>\n",
       "      <th>1</th>\n",
       "      <td>0.3</td>\n",
       "      <td>[0.2663, 0.3201]</td>\n",
       "    </tr>\n",
       "    <tr>\n",
       "      <th>2</th>\n",
       "      <td>0.1</td>\n",
       "      <td>[0.0861, 0.1228]</td>\n",
       "    </tr>\n",
       "  </tbody>\n",
       "</table>\n",
       "</div>"
      ],
      "text/plain": [
       "   True ratio   95% CI of ratio\n",
       "0         0.6   [0.5751, 0.632]\n",
       "1         0.3  [0.2663, 0.3201]\n",
       "2         0.1  [0.0861, 0.1228]"
      ]
     },
     "execution_count": 12,
     "metadata": {},
     "output_type": "execute_result"
    }
   ],
   "source": [
    "pd.DataFrame({ \"True ratio\":[.6,.3,.1],\n",
    "             \"95% CI of ratio\":[CI1,CI2,CI0]})"
   ]
  },
  {
   "cell_type": "markdown",
   "metadata": {},
   "source": [
    "All 95% credible intervals capture the true ratios"
   ]
  }
 ],
 "metadata": {
  "kernelspec": {
   "display_name": "Python 3",
   "language": "python",
   "name": "python3"
  },
  "language_info": {
   "codemirror_mode": {
    "name": "ipython",
    "version": 3
   },
   "file_extension": ".py",
   "mimetype": "text/x-python",
   "name": "python",
   "nbconvert_exporter": "python",
   "pygments_lexer": "ipython3",
   "version": "3.8.5"
  }
 },
 "nbformat": 4,
 "nbformat_minor": 4
}
