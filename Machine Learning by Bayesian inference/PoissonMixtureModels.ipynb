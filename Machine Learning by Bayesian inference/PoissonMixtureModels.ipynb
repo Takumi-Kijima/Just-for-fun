{
 "cells": [
  {
   "cell_type": "code",
   "execution_count": 1,
   "metadata": {},
   "outputs": [],
   "source": [
    "import numpy as np\n",
    "import matplotlib.pyplot as plt\n",
    "import random\n",
    "from scipy.stats import dirichlet\n",
    "from scipy.stats import gamma\n",
    "from scipy.stats import multinomial\n",
    "from scipy.special import psi\n",
    "import pandas as pd\n",
    "from scipy.stats import multinomial\n",
    "from scipy.stats import nbinom\n",
    "import time"
   ]
  },
  {
   "cell_type": "code",
   "execution_count": 2,
   "metadata": {},
   "outputs": [
    {
     "data": {
      "image/png": "[encoded data removed]",
      "text/plain": [
       "<Figure size 432x288 with 1 Axes>"
      ]
     },
     "metadata": {
      "needs_background": "light"
     },
     "output_type": "display_data"
    },
    {
     "data": {
      "text/plain": [
       "array([722, 175, 103])"
      ]
     },
     "execution_count": 2,
     "metadata": {},
     "output_type": "execute_result"
    }
   ],
   "source": [
    "true_ratio = [.7,.2,.1]\n",
    "true_lambda = [100,50,200]\n",
    "count=np.random.multinomial(1000,true_ratio)\n",
    "x1 = np.random.poisson(true_lambda[0], count[0])\n",
    "x2 = np.random.poisson(true_lambda[1], count[1])\n",
    "x3 = np.random.poisson(true_lambda[2], count[2])\n",
    "x=(np.concatenate([x1,x2,x3])).reshape(-1,1)\n",
    "plt.hist(x,bins=20)\n",
    "plt.show()\n",
    "count"
   ]
  },
  {
   "cell_type": "code",
   "execution_count": 3,
   "metadata": {},
   "outputs": [
    {
     "data": {
      "text/plain": [
       "(99.54570637119113, 49.308571428571426, 201.40776699029126)"
      ]
     },
     "execution_count": 3,
     "metadata": {},
     "output_type": "execute_result"
    }
   ],
   "source": [
    "x1.mean(),x2.mean(),x3.mean()"
   ]
  },
  {
   "cell_type": "markdown",
   "metadata": {},
   "source": [
    "In this data, the observations are drwan from 3 poisson distributions with different lambdas.<br />\n",
    "70% comes from poi(100), 20% comes from poi(50), 10% comes from poi(200)\n",
    "\n",
    "There are 1,000 obserbations in total. <br />\n",
    "714 obsevations came from poi(100) and thier sample mean is 100.49.<br />\n",
    "186 obsevations came from poi(50) and their sample mean is 49.52. <br />\n",
    "100 obsevations came from poi(200) and thier sample mean is 199.84.  <br />"
   ]
  },
  {
   "cell_type": "code",
   "execution_count": 4,
   "metadata": {},
   "outputs": [],
   "source": [
    "def log_sum_exponential(tmp):\n",
    "    denominator = np.log(np.sum(np.exp(tmp - tmp.max(axis=1).reshape(-1,1)), axis=1))+ tmp.max(axis=1)\n",
    "    result = np.exp(tmp-denominator.reshape(-1,1))\n",
    "    #without rounding, result[n].sum() could exceed 1. For example,result[0]=[1.02736297e-06, 9.99998973e-01, 7.05605970e-16] result[0].sum()=1.0000000000000024\n",
    "    return np.round(result,6)\n",
    "def gibbs_sampling(x,K,max_iter=110):\n",
    "    start = time.time()\n",
    "    N=x.size\n",
    "    lmbd = np.ones((1,K))   # inital lambda (parameter of poisson) \n",
    "    pi = np.zeros((1,K)) + 1/K #Initial pi = (1/K, 1/K, ......,1/K)\n",
    "    a=1 # initial scale of gamma  \n",
    "    b=1 # initial rate of gamma\n",
    "    alpha = np.ones((1,K))  # initial alpha of dirichlet\n",
    "    post_lmbd = np.zeros((max_iter,K)) #store postrior lambda\n",
    "    post_pi = np.zeros((max_iter,K)) #store posterior pi\n",
    "    for i in range(max_iter):\n",
    "        s=np.zeros((N,K)) \n",
    "        tmp= x*np.log(lmbd) - lmbd + np.log(pi)\n",
    "        eta = log_sum_exponential(tmp)\n",
    "        for n in range(N):\n",
    "            s[n] = multinomial.rvs(n=1, p=eta[n], size=1) \n",
    "            a_hat = x.T.dot(s)  + a\n",
    "            b_hat = np.sum(s, axis=0) + b\n",
    "            lmbd = gamma.rvs(a = a_hat, scale = 1/b_hat) #b_hat is rate, not scale\n",
    "            post_lmbd[i,] = lmbd\n",
    "            alpha_hat = np.sum(s, axis=0)  + alpha\n",
    "            pi = dirichlet.rvs(alpha_hat[0,:])\n",
    "            post_pi[i,]=pi\n",
    "    end = time.time()\n",
    "    time_record = end-start\n",
    "    return post_lmbd[10:,], post_pi[10:], time_record\n",
    "    \n",
    "def variational_inference(x,K,max_iter=110):\n",
    "    start = time.time()\n",
    "    N=x.size\n",
    "    a=np.ones((1,K)) # initial scale of gamma  \n",
    "    b=np.ones((1,K)) # initial rate of gamma\n",
    "    alpha= np.array([1.01,1,.99]) # initial alpha of dirichlet. If all values are identical, estimated lambda will also be identical\n",
    "    a_hat=np.ones((1,K)) \n",
    "    b_hat=np.ones((1,K)) \n",
    "    alpha_hat = np.ones((1,K)) \n",
    "    alpha_hat_history = []\n",
    "    a_hat_history = []\n",
    "    b_hat_history = []\n",
    "    for i in range(max_iter):\n",
    "        #E_ is expected value\n",
    "        E_ln_lmbd = psi(a_hat) - np.log(b_hat)\n",
    "        E_lmbd = a_hat / b_hat\n",
    "        E_ln_pi = psi(alpha_hat) - psi(sum(alpha)) #psi is digamma\n",
    "        #update q(s_n)\n",
    "        tmp= x*E_ln_lmbd - E_lmbd + E_ln_pi \n",
    "        eta = log_sum_exponential(tmp)\n",
    "        eta = np.asarray(eta) \n",
    "        eta = np.round(eta,6) #avoid round off error \n",
    "        #update q(lambda_k)\n",
    "        a_hat =  x.T.dot(eta)   + a \n",
    "        b_hat = eta.sum(axis=0) + b\n",
    "        #update aloha_hat for q(pi)\n",
    "        alpha_hat = eta.sum(axis=0) + alpha\n",
    "        \n",
    "        alpha_hat_history.append(alpha_hat)\n",
    "        a_hat_history.append(a_hat)\n",
    "        b_hat_history.append(b_hat)\n",
    "    end = time.time()\n",
    "    t=end-start\n",
    "    \n",
    "    return a_hat_history,b_hat_history,alpha_hat_history ,t"
   ]
  },
  {
   "cell_type": "code",
   "execution_count": 5,
   "metadata": {},
   "outputs": [],
   "source": [
    "gs_result = gibbs_sampling(x=x,K=3)"
   ]
  },
  {
   "cell_type": "code",
   "execution_count": 6,
   "metadata": {},
   "outputs": [
    {
     "data": {
      "text/plain": [
       "(array([197.15, 202.17]), array([48.13, 49.93]), array([ 98.73, 100.16]))"
      ]
     },
     "execution_count": 6,
     "metadata": {},
     "output_type": "execute_result"
    }
   ],
   "source": [
    "CI0l = np.round(np.percentile(gs_result[0][:,0], (2.5, 97.5)),2)\n",
    "CI1l = np.round(np.percentile(gs_result[0][:,1], (2.5, 97.5)),2)\n",
    "CI2l = np.round(np.percentile(gs_result[0][:,2], (2.5, 97.5)),2)\n",
    "CI0l,CI1l,CI2l"
   ]
  },
  {
   "cell_type": "markdown",
   "metadata": {},
   "source": [
    "These are 95% credible interval (ETI) for lambda."
   ]
  },
  {
   "cell_type": "code",
   "execution_count": 8,
   "metadata": {},
   "outputs": [
    {
     "data": {
      "text/plain": [
       "(array([0.0829, 0.1193]), array([0.1506, 0.1977]), array([0.6978, 0.7469]))"
      ]
     },
     "execution_count": 8,
     "metadata": {},
     "output_type": "execute_result"
    }
   ],
   "source": [
    "CI0p = np.round(np.percentile(gs_result[1][:,0], (2.5, 97.5)),4)\n",
    "CI1p = np.round(np.percentile(gs_result[1][:,1], (2.5, 97.5)),4)\n",
    "CI2p = np.round(np.percentile(gs_result[1][:,2], (2.5, 97.5)),4)\n",
    "CI0p,CI1p,CI2p"
   ]
  },
  {
   "cell_type": "markdown",
   "metadata": {},
   "source": [
    "These are 95% credible interval (ETI) for pi."
   ]
  },
  {
   "cell_type": "code",
   "execution_count": 7,
   "metadata": {},
   "outputs": [
    {
     "data": {
      "text/plain": [
       "29.144057512283325"
      ]
     },
     "execution_count": 7,
     "metadata": {},
     "output_type": "execute_result"
    }
   ],
   "source": [
    "gs_result[2]"
   ]
  },
  {
   "cell_type": "markdown",
   "metadata": {},
   "source": [
    "It took 29.14 seconds for max_iter=110. "
   ]
  },
  {
   "cell_type": "code",
   "execution_count": 9,
   "metadata": {},
   "outputs": [
    {
     "data": {
      "text/html": [
       "<div>\n",
       "<style scoped>\n",
       "    .dataframe tbody tr th:only-of-type {\n",
       "        vertical-align: middle;\n",
       "    }\n",
       "\n",
       "    .dataframe tbody tr th {\n",
       "        vertical-align: top;\n",
       "    }\n",
       "\n",
       "    .dataframe thead th {\n",
       "        text-align: right;\n",
       "    }\n",
       "</style>\n",
       "<table border=\"1\" class=\"dataframe\">\n",
       "  <thead>\n",
       "    <tr style=\"text-align: right;\">\n",
       "      <th></th>\n",
       "      <th>True lambda</th>\n",
       "      <th>95% CI of  lambda</th>\n",
       "      <th>True ratio</th>\n",
       "      <th>95% CI of ratio</th>\n",
       "    </tr>\n",
       "  </thead>\n",
       "  <tbody>\n",
       "    <tr>\n",
       "      <th>0</th>\n",
       "      <td>100</td>\n",
       "      <td>[98.73, 100.16]</td>\n",
       "      <td>0.7</td>\n",
       "      <td>[0.6978, 0.7469]</td>\n",
       "    </tr>\n",
       "    <tr>\n",
       "      <th>1</th>\n",
       "      <td>50</td>\n",
       "      <td>[48.13, 49.93]</td>\n",
       "      <td>0.2</td>\n",
       "      <td>[0.1506, 0.1977]</td>\n",
       "    </tr>\n",
       "    <tr>\n",
       "      <th>2</th>\n",
       "      <td>200</td>\n",
       "      <td>[197.15, 202.17]</td>\n",
       "      <td>0.1</td>\n",
       "      <td>[0.0829, 0.1193]</td>\n",
       "    </tr>\n",
       "  </tbody>\n",
       "</table>\n",
       "</div>"
      ],
      "text/plain": [
       "   True lambda 95% CI of  lambda  True ratio   95% CI of ratio\n",
       "0          100   [98.73, 100.16]         0.7  [0.6978, 0.7469]\n",
       "1           50    [48.13, 49.93]         0.2  [0.1506, 0.1977]\n",
       "2          200  [197.15, 202.17]         0.1  [0.0829, 0.1193]"
      ]
     },
     "execution_count": 9,
     "metadata": {},
     "output_type": "execute_result"
    }
   ],
   "source": [
    "pd.DataFrame({\"True lambda\":[100,50,200],\n",
    "             \"95% CI of  lambda\":[ CI2l, CI1l ,CI0l],\n",
    "             \"True ratio\":[.7,.2,.1],\n",
    "             \"95% CI of ratio\":[CI2p, CI1p, CI0p]})"
   ]
  },
  {
   "cell_type": "markdown",
   "metadata": {},
   "source": [
    "2. poisson mixture model by variational_inference"
   ]
  },
  {
   "cell_type": "code",
   "execution_count": 10,
   "metadata": {},
   "outputs": [],
   "source": [
    "v_result=variational_inference(x=x,K=3)\n",
    "a_hat=v_result[0][-1]\n",
    "b_hat=v_result[1][-1]\n",
    "alpha_hat= v_result[2][-1]"
   ]
  },
  {
   "cell_type": "code",
   "execution_count": 11,
   "metadata": {},
   "outputs": [
    {
     "data": {
      "text/plain": [
       "((array([196.77,  98.68,  48.01]), array([202.2 , 100.13,  50.08])),\n",
       " (array([0.0857, 0.693 , 0.1521]), array([0.1235, 0.7481, 0.2001])))"
      ]
     },
     "execution_count": 11,
     "metadata": {},
     "output_type": "execute_result"
    }
   ],
   "source": [
    "#lb stands for lower bound. ub stnad for upper bound.\n",
    "lb_lmbd = gamma.ppf((.025),a=a_hat[0],scale=1/b_hat[0]).round(2) \n",
    "ub_lmbd = gamma.ppf((.975),a=a_hat[0],scale=1/b_hat[0]).round(2)\n",
    "dirichlet_random = dirichlet.rvs(alpha_hat,size=10000) #use rvs since there is no ppf for dirichlet \n",
    "lb_pi = np.percentile(dirichlet_random,2.5,axis=0).round(4) \n",
    "ub_pi= np.percentile(dirichlet_random,97.5,axis=0).round(4) \n",
    "(lb_lmbd,ub_lmbd),(lb_pi,ub_pi)"
   ]
  },
  {
   "cell_type": "code",
   "execution_count": 12,
   "metadata": {},
   "outputs": [
    {
     "data": {
      "text/plain": [
       "0.11130547523498535"
      ]
     },
     "execution_count": 12,
     "metadata": {},
     "output_type": "execute_result"
    }
   ],
   "source": [
    "v_result[3]"
   ]
  },
  {
   "cell_type": "markdown",
   "metadata": {},
   "source": [
    "It took only 0.11 seconds for max_iter=110. In fact, you don't need 110 iterations. The posteriros coverage much earlier. "
   ]
  },
  {
   "cell_type": "code",
   "execution_count": 14,
   "metadata": {},
   "outputs": [
    {
     "data": {
      "text/html": [
       "<div>\n",
       "<style scoped>\n",
       "    .dataframe tbody tr th:only-of-type {\n",
       "        vertical-align: middle;\n",
       "    }\n",
       "\n",
       "    .dataframe tbody tr th {\n",
       "        vertical-align: top;\n",
       "    }\n",
       "\n",
       "    .dataframe thead th {\n",
       "        text-align: right;\n",
       "    }\n",
       "</style>\n",
       "<table border=\"1\" class=\"dataframe\">\n",
       "  <thead>\n",
       "    <tr style=\"text-align: right;\">\n",
       "      <th></th>\n",
       "      <th>True lambda</th>\n",
       "      <th>95% CI of  lambda</th>\n",
       "      <th>True ratio</th>\n",
       "      <th>95% CI of ratio</th>\n",
       "    </tr>\n",
       "  </thead>\n",
       "  <tbody>\n",
       "    <tr>\n",
       "      <th>0</th>\n",
       "      <td>100</td>\n",
       "      <td>(98.68, 100.13)</td>\n",
       "      <td>0.7</td>\n",
       "      <td>(0.693, 0.7481)</td>\n",
       "    </tr>\n",
       "    <tr>\n",
       "      <th>1</th>\n",
       "      <td>50</td>\n",
       "      <td>(48.01, 50.08)</td>\n",
       "      <td>0.2</td>\n",
       "      <td>(0.1521, 0.2001)</td>\n",
       "    </tr>\n",
       "    <tr>\n",
       "      <th>2</th>\n",
       "      <td>200</td>\n",
       "      <td>(196.77, 202.2)</td>\n",
       "      <td>0.1</td>\n",
       "      <td>(0.0857, 0.1235)</td>\n",
       "    </tr>\n",
       "  </tbody>\n",
       "</table>\n",
       "</div>"
      ],
      "text/plain": [
       "   True lambda 95% CI of  lambda  True ratio   95% CI of ratio\n",
       "0          100   (98.68, 100.13)         0.7   (0.693, 0.7481)\n",
       "1           50    (48.01, 50.08)         0.2  (0.1521, 0.2001)\n",
       "2          200   (196.77, 202.2)         0.1  (0.0857, 0.1235)"
      ]
     },
     "execution_count": 14,
     "metadata": {},
     "output_type": "execute_result"
    }
   ],
   "source": [
    "i,j,k = 1,2,0\n",
    "pd.DataFrame({\"True lambda\":[100,50,200],\n",
    "             \"95% CI of  lambda\":[(lb_lmbd[i],ub_lmbd[i]), (lb_lmbd[j],ub_lmbd[j]), (lb_lmbd[k],ub_lmbd[k])],\n",
    "             \"True ratio\":[.7,.2,.1],\n",
    "             \"95% CI of ratio\":[(lb_pi[i],ub_pi[i]), (lb_pi[j],ub_pi[j]), (lb_pi[k],ub_pi[k])]})"
   ]
  }
 ],
 "metadata": {
  "kernelspec": {
   "display_name": "Python 3",
   "language": "python",
   "name": "python3"
  },
  "language_info": {
   "codemirror_mode": {
    "name": "ipython",
    "version": 3
   },
   "file_extension": ".py",
   "mimetype": "text/x-python",
   "name": "python",
   "nbconvert_exporter": "python",
   "pygments_lexer": "ipython3",
   "version": "3.8.5"
  }
 },
 "nbformat": 4,
 "nbformat_minor": 4
}
