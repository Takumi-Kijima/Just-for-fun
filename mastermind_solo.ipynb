{
 "cells": [
  {
   "cell_type": "code",
   "execution_count": 50,
   "metadata": {},
   "outputs": [],
   "source": [
    "import random\n",
    "import numpy as np"
   ]
  },
  {
   "cell_type": "code",
   "execution_count": 232,
   "metadata": {},
   "outputs": [],
   "source": [
    "#a list which has only valid elements. if an input is not in valid_list, then the input is invalid.\n",
    "valid_list=list(np.arange(0,10000))\n",
    "for i in range(10000):\n",
    "    valid_list[i] = str(all_list[i]).zfill(4)\n",
    "valid_list.append(\"g\")\n",
    "\n",
    "\n",
    "\n",
    "#show the progress. It shows # of matches and # of wrong places\n",
    "def progress(guess,answer,valid_list=valid_list):\n",
    "    if(guess not in valid_list or guess==\"g\"):\n",
    "        return\n",
    "    match=0\n",
    "    guess_array = np.zeros(10)\n",
    "    answer_array = np.zeros(10)\n",
    "    #number of matches\n",
    "    for i in range(4):\n",
    "        if(guess[i] == answer[i]):\n",
    "            match += 1\n",
    "    # number of wrong places\n",
    "    for i in range(10):\n",
    "        guess_array[i] = guess.count(str(i))\n",
    "        answer_array[i] = answer.count(str(i))\n",
    "    \n",
    "    wp = np.minimum(guess_array,answer_array).sum() - match\n",
    "    return print(\" ✓: \", match, \" X: \", int(wp))\n",
    "    "
   ]
  },
  {
   "cell_type": "code",
   "execution_count": 231,
   "metadata": {},
   "outputs": [
    {
     "name": "stdout",
     "output_type": "stream",
     "text": [
      "Guess the 4 digit number:q1234\n",
      "invalid input. please guess again.\n",
      "Guess the 4 digit number:1234\n",
      " ✓:  0  X:  2\n",
      "Guess the 4 digit number:3333333\n",
      "invalid input. please guess again.\n",
      "Guess the 4 digit number:iloveyou\n",
      "invalid input. please guess again.\n",
      "Guess the 4 digit number:3465\n",
      " ✓:  2  X:  1\n",
      "Guess the 4 digit number:3450\n",
      " ✓:  3  X:  0\n",
      "Guess the 4 digit number:3453\n",
      " ✓:  4  X:  0\n",
      "Correctamundo. # of trials:  4\n"
     ]
    }
   ],
   "source": [
    "\n",
    "#generate the answer\n",
    "answer = random.randrange(0, 10000)\n",
    "answer = str(answer).zfill(4)\n",
    "\n",
    "count=1 #count # of trials\n",
    "guess = str(input(\"Guess the 4 digit number:\"))\n",
    "progress(guess,answer)\n",
    "if (guess == \"g\"):  \n",
    "    print(\"Use your brain.\")\n",
    "\n",
    "#if input is invalid\n",
    "if (guess not in all_list):\n",
    "    while(guess not in all_list):\n",
    "        print(\"invalid input. please guess again.\")\n",
    "        guess = str(input(\"Guess the 4 digit number:\"))\n",
    "    progress(guess,answer)\n",
    "\n",
    "while(guess!=answer):\n",
    "    if (guess == \"g\"):  \n",
    "        print(\"The correct answer is \", answer)\n",
    "        break;\n",
    "    elif(guess not in all_list):\n",
    "        while(guess not in all_list):\n",
    "            print(\"invalid input. please guess again.\")\n",
    "            guess = str(input(\"Guess the 4 digit number:\"))\n",
    "        progress(guess,answer)\n",
    "    # if the answer is valid\n",
    "    else:\n",
    "        guess = str(input(\"Guess the 4 digit number:\"))\n",
    "        count+=1\n",
    "        progress(guess,answer)\n",
    "\n",
    "if (guess == answer):  \n",
    "    print(\"Correctamundo. # of trials: \",count)\n",
    "    "
   ]
  }
 ],
 "metadata": {
  "kernelspec": {
   "display_name": "Python 3",
   "language": "python",
   "name": "python3"
  },
  "language_info": {
   "codemirror_mode": {
    "name": "ipython",
    "version": 3
   },
   "file_extension": ".py",
   "mimetype": "text/x-python",
   "name": "python",
   "nbconvert_exporter": "python",
   "pygments_lexer": "ipython3",
   "version": "3.8.5"
  }
 },
 "nbformat": 4,
 "nbformat_minor": 4
}
