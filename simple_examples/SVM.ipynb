{
 "cells": [
  {
   "cell_type": "code",
   "execution_count": 1,
   "metadata": {},
   "outputs": [
    {
     "data": {
      "text/html": [
       "<div>\n",
       "<style scoped>\n",
       "    .dataframe tbody tr th:only-of-type {\n",
       "        vertical-align: middle;\n",
       "    }\n",
       "\n",
       "    .dataframe tbody tr th {\n",
       "        vertical-align: top;\n",
       "    }\n",
       "\n",
       "    .dataframe thead th {\n",
       "        text-align: right;\n",
       "    }\n",
       "</style>\n",
       "<table border=\"1\" class=\"dataframe\">\n",
       "  <thead>\n",
       "    <tr style=\"text-align: right;\">\n",
       "      <th></th>\n",
       "      <th>C</th>\n",
       "      <th>accuracy</th>\n",
       "    </tr>\n",
       "  </thead>\n",
       "  <tbody>\n",
       "    <tr>\n",
       "      <th>0</th>\n",
       "      <td>0.010</td>\n",
       "      <td>0.711111</td>\n",
       "    </tr>\n",
       "    <tr>\n",
       "      <th>1</th>\n",
       "      <td>0.050</td>\n",
       "      <td>0.955556</td>\n",
       "    </tr>\n",
       "    <tr>\n",
       "      <th>2</th>\n",
       "      <td>0.075</td>\n",
       "      <td>0.977778</td>\n",
       "    </tr>\n",
       "    <tr>\n",
       "      <th>3</th>\n",
       "      <td>0.100</td>\n",
       "      <td>0.977778</td>\n",
       "    </tr>\n",
       "    <tr>\n",
       "      <th>4</th>\n",
       "      <td>0.500</td>\n",
       "      <td>0.977778</td>\n",
       "    </tr>\n",
       "    <tr>\n",
       "      <th>5</th>\n",
       "      <td>1.000</td>\n",
       "      <td>0.977778</td>\n",
       "    </tr>\n",
       "    <tr>\n",
       "      <th>6</th>\n",
       "      <td>10.000</td>\n",
       "      <td>0.977778</td>\n",
       "    </tr>\n",
       "  </tbody>\n",
       "</table>\n",
       "</div>"
      ],
      "text/plain": [
       "        C  accuracy\n",
       "0   0.010  0.711111\n",
       "1   0.050  0.955556\n",
       "2   0.075  0.977778\n",
       "3   0.100  0.977778\n",
       "4   0.500  0.977778\n",
       "5   1.000  0.977778\n",
       "6  10.000  0.977778"
      ]
     },
     "execution_count": 1,
     "metadata": {},
     "output_type": "execute_result"
    }
   ],
   "source": [
    "from sklearn import datasets\n",
    "from sklearn.preprocessing import StandardScaler \n",
    "from sklearn.model_selection import train_test_split\n",
    "from sklearn.svm import SVC\n",
    "import pandas as pd\n",
    "import numpy as np\n",
    "import matplotlib.pyplot as plt\n",
    "\n",
    "iris = datasets.load_iris()\n",
    "X = iris.data\n",
    "y = iris[\"target\"]\n",
    "\n",
    "X_train, X_test, y_train, y_test = train_test_split(\n",
    "    X, y, test_size=0.3, random_state=0)\n",
    "\n",
    "sc = StandardScaler()\n",
    "sc.fit(X_train)\n",
    "X_train_std = sc.transform(X_train)\n",
    "X_test_std = sc.transform(X_test)\n",
    "\n",
    "C=[.01,.05,.075,.1,.5,1,10]\n",
    "accuracy=[]\n",
    "svm = SVC(kernel='linear', C=1, random_state=0)\n",
    "svm.fit(X_train_std, y_train)\n",
    "\n",
    "#choose C by computing accuaracy with testing data\n",
    "for i in C:\n",
    "    svm = SVC(kernel='linear', C=i, random_state=0)\n",
    "    svm.fit(X_train_std, y_train)\n",
    "    pred=svm.predict(X_test_std)\n",
    "    accuracy.append(sum(pred==y_test)/len(y_test))\n",
    "\n",
    "\n",
    "pd.DataFrame({\"C\":C,\n",
    "             \"accuracy\":accuracy})\n"
   ]
  },
  {
   "cell_type": "code",
   "execution_count": 2,
   "metadata": {},
   "outputs": [
    {
     "data": {
      "text/plain": [
       "0.9777777777777777"
      ]
     },
     "execution_count": 2,
     "metadata": {},
     "output_type": "execute_result"
    }
   ],
   "source": [
    "# kernel method\n",
    "svm = SVC(kernel='rbf', random_state=0, gamma=1, C=1)\n",
    "svm.fit(X_train_std, y_train)\n",
    "pred=svm.predict(X_test_std)\n",
    "accuracy=sum(pred==y_test)/len(y_test)\n",
    "accuracy"
   ]
  },
  {
   "cell_type": "code",
   "execution_count": 3,
   "metadata": {},
   "outputs": [
    {
     "data": {
      "image/png": "[encoded data removed]",
      "text/plain": [
       "<Figure size 432x288 with 1 Axes>"
      ]
     },
     "metadata": {
      "needs_background": "light"
     },
     "output_type": "display_data"
    }
   ],
   "source": [
    "#Suppse there are 2 groups and each group has 200 students. They took a math and english test.\n",
    "# Students in the group A tend to score better in both math and english than students in the group B\n",
    "sizeA=200 #number of students in the group A\n",
    "sizeB=200 #number of students in the group A\n",
    "\n",
    "MathA=np.random.normal(60,5,sizeA) #generate math scores for the group A \n",
    "EnglishA=np.random.normal(55,10,sizeA) #generate English scores for the group A\n",
    "MathB=np.random.normal(40,5,sizeB) #generate math scores for the group B\n",
    "EnglishB=np.random.normal(45,10,sizeB) #generate English scores for the group B\n",
    "\n",
    "y=[0]*sizeA+[1]*sizeB # 0 indicates the group A, 1 indicates the group B\n",
    "A=np.vstack((MathA, EnglishA)).T\n",
    "B=np.vstack((MathB, EnglishB)).T\n",
    "X= np.concatenate((A,B))\n",
    "X_train, X_test, y_train, y_test = train_test_split(\n",
    "    X, y, test_size=0.3, random_state=0) #30% of the observations is used as the test data\n",
    "\n",
    "sc.fit(X_train)\n",
    "X_train_std = sc.transform(X_train)\n",
    "X_test_std = sc.transform(X_test)\n",
    "\n",
    "plt.scatter(A[:,0],\n",
    "            A[:,1],\n",
    "            c='b', marker='x',\n",
    "            label='group A')\n",
    "plt.scatter(B[:,0],\n",
    "            B[:,1],\n",
    "            c='r',marker='s',\n",
    "            label='group B')\n",
    "\n",
    "plt.legend(loc='best')\n",
    "plt.xlabel('Math score')\n",
    "plt.ylabel('English score')\n",
    "plt.tight_layout()\n",
    "plt.show()\n"
   ]
  },
  {
   "cell_type": "code",
   "execution_count": 4,
   "metadata": {},
   "outputs": [
    {
     "data": {
      "text/html": [
       "<div>\n",
       "<style scoped>\n",
       "    .dataframe tbody tr th:only-of-type {\n",
       "        vertical-align: middle;\n",
       "    }\n",
       "\n",
       "    .dataframe tbody tr th {\n",
       "        vertical-align: top;\n",
       "    }\n",
       "\n",
       "    .dataframe thead th {\n",
       "        text-align: right;\n",
       "    }\n",
       "</style>\n",
       "<table border=\"1\" class=\"dataframe\">\n",
       "  <thead>\n",
       "    <tr style=\"text-align: right;\">\n",
       "      <th></th>\n",
       "      <th>C</th>\n",
       "      <th>accuracy</th>\n",
       "    </tr>\n",
       "  </thead>\n",
       "  <tbody>\n",
       "    <tr>\n",
       "      <th>0</th>\n",
       "      <td>0.1</td>\n",
       "      <td>0.975000</td>\n",
       "    </tr>\n",
       "    <tr>\n",
       "      <th>1</th>\n",
       "      <td>0.5</td>\n",
       "      <td>0.966667</td>\n",
       "    </tr>\n",
       "    <tr>\n",
       "      <th>2</th>\n",
       "      <td>1.0</td>\n",
       "      <td>0.966667</td>\n",
       "    </tr>\n",
       "    <tr>\n",
       "      <th>3</th>\n",
       "      <td>5.0</td>\n",
       "      <td>0.966667</td>\n",
       "    </tr>\n",
       "    <tr>\n",
       "      <th>4</th>\n",
       "      <td>10.0</td>\n",
       "      <td>0.958333</td>\n",
       "    </tr>\n",
       "    <tr>\n",
       "      <th>5</th>\n",
       "      <td>50.0</td>\n",
       "      <td>0.966667</td>\n",
       "    </tr>\n",
       "    <tr>\n",
       "      <th>6</th>\n",
       "      <td>100.0</td>\n",
       "      <td>0.966667</td>\n",
       "    </tr>\n",
       "    <tr>\n",
       "      <th>7</th>\n",
       "      <td>100000.0</td>\n",
       "      <td>0.966667</td>\n",
       "    </tr>\n",
       "  </tbody>\n",
       "</table>\n",
       "</div>"
      ],
      "text/plain": [
       "          C  accuracy\n",
       "0       0.1  0.975000\n",
       "1       0.5  0.966667\n",
       "2       1.0  0.966667\n",
       "3       5.0  0.966667\n",
       "4      10.0  0.958333\n",
       "5      50.0  0.966667\n",
       "6     100.0  0.966667\n",
       "7  100000.0  0.966667"
      ]
     },
     "execution_count": 4,
     "metadata": {},
     "output_type": "execute_result"
    }
   ],
   "source": [
    "\n",
    "C=[.1,.5,1,5,10,50,100] #parameter for SVM\n",
    "accuracy=[] #store the accuracies for each C.\n",
    "\n",
    "svm = SVC(kernel='linear', C=1, random_state=0)\n",
    "svm.fit(X_train_std, y_train)\n",
    "\n",
    "#choose C by computing accuaracy with testing data\n",
    "for i in C:\n",
    "    svm = SVC(kernel='linear', C=i, random_state=0)\n",
    "    svm.fit(X_train_std, y_train)\n",
    "    pred=svm.predict(X_test_std)\n",
    "    accuracy.append(sum(pred==y_test)/len(y_test))\n",
    "    \n",
    "pd.DataFrame({\"C\":C,\n",
    "             \"accuracy\":accuracy})\n"
   ]
  },
  {
   "cell_type": "code",
   "execution_count": 5,
   "metadata": {},
   "outputs": [
    {
     "data": {
      "text/plain": [
       "0.9666666666666667"
      ]
     },
     "execution_count": 5,
     "metadata": {},
     "output_type": "execute_result"
    }
   ],
   "source": [
    "# kernel method\n",
    "svm = SVC(kernel='rbf', random_state=0, gamma=1, C=1)\n",
    "svm.fit(X_train_std, y_train)\n",
    "pred=svm.predict(X_test_std)\n",
    "accuracy=sum(pred==y_test)/len(y_test)\n",
    "accuracy"
   ]
  },
  {
   "cell_type": "code",
   "execution_count": 6,
   "metadata": {},
   "outputs": [
    {
     "data": {
      "image/png": "[encoded data removed]",
      "text/plain": [
       "<Figure size 432x288 with 1 Axes>"
      ]
     },
     "metadata": {
      "needs_background": "light"
     },
     "output_type": "display_data"
    }
   ],
   "source": [
    "#what if the observations are not linearlly separatable\n",
    "XA=np.random.normal(0,1,sizeA)\n",
    "YA=np.random.normal(0,1,sizeA)\n",
    "XB=np.random.normal(0,1,sizeB)*100\n",
    "YB=np.random.normal(0,1,sizeB)*100\n",
    "A=np.vstack((XA, YA)).T\n",
    "B=np.vstack((XB, YB)).T\n",
    "X= np.concatenate((A,B))\n",
    "y=[0]*sizeA+[1]*sizeB\n",
    "X_train, X_test, y_train, y_test = train_test_split(\n",
    "    X, y, test_size=0.3, random_state=0)\n",
    "sc.fit(X_train)\n",
    "X_train_std = sc.transform(X_train)\n",
    "X_test_std = sc.transform(X_test)\n",
    "\n",
    "\n",
    "plt.scatter(A[:,0],\n",
    "            A[:,1],\n",
    "            c='black', marker='x',\n",
    "            label='group A')\n",
    "plt.scatter(B[:,0],\n",
    "            B[:,1],\n",
    "            c='yellow',marker='s',\n",
    "            label='group B')\n",
    "\n",
    "plt.legend(loc='best')\n",
    "plt.tight_layout()\n",
    "plt.show()\n"
   ]
  },
  {
   "cell_type": "code",
   "execution_count": 7,
   "metadata": {},
   "outputs": [
    {
     "data": {
      "text/html": [
       "<div>\n",
       "<style scoped>\n",
       "    .dataframe tbody tr th:only-of-type {\n",
       "        vertical-align: middle;\n",
       "    }\n",
       "\n",
       "    .dataframe tbody tr th {\n",
       "        vertical-align: top;\n",
       "    }\n",
       "\n",
       "    .dataframe thead th {\n",
       "        text-align: right;\n",
       "    }\n",
       "</style>\n",
       "<table border=\"1\" class=\"dataframe\">\n",
       "  <thead>\n",
       "    <tr style=\"text-align: right;\">\n",
       "      <th></th>\n",
       "      <th>C</th>\n",
       "      <th>accuracy</th>\n",
       "    </tr>\n",
       "  </thead>\n",
       "  <tbody>\n",
       "    <tr>\n",
       "      <th>0</th>\n",
       "      <td>0.1</td>\n",
       "      <td>0.616667</td>\n",
       "    </tr>\n",
       "    <tr>\n",
       "      <th>1</th>\n",
       "      <td>1.0</td>\n",
       "      <td>0.616667</td>\n",
       "    </tr>\n",
       "    <tr>\n",
       "      <th>2</th>\n",
       "      <td>10.0</td>\n",
       "      <td>0.616667</td>\n",
       "    </tr>\n",
       "    <tr>\n",
       "      <th>3</th>\n",
       "      <td>100.0</td>\n",
       "      <td>0.616667</td>\n",
       "    </tr>\n",
       "    <tr>\n",
       "      <th>4</th>\n",
       "      <td>1000.0</td>\n",
       "      <td>0.616667</td>\n",
       "    </tr>\n",
       "  </tbody>\n",
       "</table>\n",
       "</div>"
      ],
      "text/plain": [
       "        C  accuracy\n",
       "0     0.1  0.616667\n",
       "1     1.0  0.616667\n",
       "2    10.0  0.616667\n",
       "3   100.0  0.616667\n",
       "4  1000.0  0.616667"
      ]
     },
     "execution_count": 7,
     "metadata": {},
     "output_type": "execute_result"
    }
   ],
   "source": [
    "C=[.1,1,10,100,1000]\n",
    "accuracy=[]\n",
    "svm = SVC(kernel='linear', C=1, random_state=0)\n",
    "svm.fit(X_train_std, y_train)\n",
    "\n",
    "#choose C by computing accuaracy with testing data\n",
    "for i in C:\n",
    "    svm = SVC(kernel='linear', C=i, random_state=0)\n",
    "    svm.fit(X_train_std, y_train)\n",
    "    pred=svm.predict(X_test_std)\n",
    "    accuracy.append(sum(pred==y_test)/len(y_test))\n",
    "\n",
    "pd.DataFrame({\"C\":C,\n",
    "             \"accuracy\":accuracy})\n",
    "# as expected, linear is not good"
   ]
  },
  {
   "cell_type": "code",
   "execution_count": 8,
   "metadata": {},
   "outputs": [
    {
     "data": {
      "text/plain": [
       "0.9583333333333334"
      ]
     },
     "execution_count": 8,
     "metadata": {},
     "output_type": "execute_result"
    }
   ],
   "source": [
    "# kernel method\n",
    "svm = SVC(kernel='rbf', random_state=0, gamma=1, C=1)\n",
    "svm.fit(X_train_std, y_train)\n",
    "pred=svm.predict(X_test_std)\n",
    "accuracy=sum(pred==y_test)/len(y_test)\n",
    "accuracy"
   ]
  },
  {
   "cell_type": "code",
   "execution_count": null,
   "metadata": {},
   "outputs": [],
   "source": []
  }
 ],
 "metadata": {
  "kernelspec": {
   "display_name": "Python 3",
   "language": "python",
   "name": "python3"
  },
  "language_info": {
   "codemirror_mode": {
    "name": "ipython",
    "version": 3
   },
   "file_extension": ".py",
   "mimetype": "text/x-python",
   "name": "python",
   "nbconvert_exporter": "python",
   "pygments_lexer": "ipython3",
   "version": "3.8.5"
  }
 },
 "nbformat": 4,
 "nbformat_minor": 2
}
