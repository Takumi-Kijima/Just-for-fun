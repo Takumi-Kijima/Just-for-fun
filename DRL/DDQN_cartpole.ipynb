{
  "nbformat": 4,
  "nbformat_minor": 0,
  "metadata": {
    "colab": {
      "provenance": []
    },
    "kernelspec": {
      "name": "python3",
      "display_name": "Python 3"
    },
    "language_info": {
      "name": "python"
    }
  },
  "cells": [
    {
      "cell_type": "code",
      "execution_count": 1,
      "metadata": {
        "id": "_-vyw0Qy20Hi"
      },
      "outputs": [],
      "source": [
        "import gym\n",
        "import math\n",
        "import random\n",
        "import numpy as np\n",
        "import matplotlib.pyplot as plt\n",
        "from collections import namedtuple, deque\n",
        "import copy \n",
        "from statistics import mean\n",
        "\n",
        "import torch\n",
        "import torch.nn as nn\n",
        "import torch.optim as optim\n",
        "import torch.nn.functional as F\n",
        "import torchvision.transforms as T\n",
        "\n"
      ]
    },
    {
      "cell_type": "code",
      "source": [
        "Transition = namedtuple('Transition',\n",
        "                        ('state', 'action', 'reward','next_state'))\n",
        "\n",
        "\n",
        "class ReplayMemory(object):\n",
        "\n",
        "    def __init__(self, capacity):\n",
        "        self.memory = deque([],maxlen=capacity)\n",
        "\n",
        "    def push(self, *args):\n",
        "        \"\"\"Save a transition\"\"\"\n",
        "        self.memory.append(Transition(*args))\n",
        "\n",
        "    def sample(self, batch_size):\n",
        "        return random.sample(self.memory, batch_size)\n",
        "\n",
        "    def __len__(self):\n",
        "        return len(self.memory)\n",
        "    \n",
        "BATCH_SIZE = 32\n",
        "GAMMA = 0.99\n",
        "EPS_START = 0.95\n",
        "EPS_END = 0.01\n",
        "EPS_DECAY = 400\n",
        "TARGET_UPDATE = 10\n",
        "CAPACITY=10000\n",
        "\n",
        "class net(nn.Module):\n",
        "\n",
        "    def __init__(self, num_states,mid,num_actions):\n",
        "        super(net, self).__init__()\n",
        "        self.fc1 = nn.Linear(num_states, mid)\n",
        "        self.fc2 = nn.Linear(mid, mid)\n",
        "        self.fc3 = nn.Linear(mid, num_actions)\n",
        "    \n",
        "    def forward(self, x):\n",
        "        h1 = F.relu(self.fc1(x)) \n",
        "        h2 = F.relu(self.fc2(h1))\n",
        "        output = self.fc3(h2)\n",
        "        return output\n",
        "\n",
        "class DDQN:\n",
        "    def __init__(self,num_states,mid,num_actions):\n",
        "        self.num_states=num_states\n",
        "        self.num_actions=num_actions\n",
        "        self.memory=ReplayMemory(CAPACITY)\n",
        "        self.q_network=net(num_states,mid,num_actions)\n",
        "        self.q_network.optimizer=optim.Adam(self.q_network.parameters(),lr=.0001)\n",
        "        self.target_q_network=self.q_network\n",
        "        self.loss_history=[]\n",
        "        self.action_type=None\n",
        "        \n",
        "        \n",
        "    def replay(self):\n",
        "        if len(self.memory)<BATCH_SIZE:\n",
        "            return\n",
        "        self.batch, self.state_batch,self.action_batch,self.reward_batch,self.non_final_next_state_batch = self.make_minibatch()\n",
        "        self.expected_state_action_values=self.get_expected_state_action_values()\n",
        "        \n",
        "    def get_action(self,state,steps_done):\n",
        "        epsilon = EPS_END + (EPS_START - EPS_END) * \\\n",
        "        math.exp(-1. * steps_done / EPS_DECAY)\n",
        "        #epsilon = .5 /(steps_done+1)\n",
        "        sample = random.random()\n",
        "\n",
        "        if epsilon < sample:\n",
        "            self.q_network.eval()\n",
        "            with torch.no_grad():\n",
        "                action=torch.argmax(self.q_network(state)).unsqueeze(0)\n",
        "                self.action_type=\"Q\"\n",
        "        else:\n",
        "            action=torch.LongTensor([random.randrange(self.num_actions)])\n",
        "            self.action_type=\"random\"\n",
        "        return action\n",
        "    def make_minibatch(self):\n",
        "        transitions=self.memory.sample(BATCH_SIZE)\n",
        "        batch=Transition(*zip(*transitions))\n",
        "        state_batch = torch.cat(batch.state)\n",
        "        action_batch = torch.cat(batch.action)\n",
        "        reward_batch = torch.cat(batch.reward)\n",
        "        #next_state_batch=torch.cat(batch.next_state)#torch.stack(list(batch.next_state), dim=0)\n",
        "        non_final_next_state_batch = torch.cat([s for s in batch.next_state if s is not None])\n",
        "        return batch,state_batch,action_batch,reward_batch,  non_final_next_state_batch\n",
        "\n",
        "    def get_expected_state_action_values(self):\n",
        "        self.q_network.eval()\n",
        "        self.target_q_network.eval()\n",
        "        state_action_values=self.q_network(self.state_batch).gather(1,self.action_batch.unsqueeze(1))\n",
        "        non_final_mask = torch.tensor(tuple(map(lambda s: s is not None,self.batch.next_state)),dtype=bool)\n",
        "        next_state_values= torch.zeros(BATCH_SIZE).unsqueeze(1)\n",
        "        a_m=torch.zeros(BATCH_SIZE).type(torch.LongTensor)\n",
        "        a_m[non_final_mask]=self.q_network(self.non_final_next_state_batch).detach().argmax(axis=1)\n",
        "        a_m_non_final_next_states=a_m[non_final_mask].unsqueeze(1)\n",
        "        next_state_values[non_final_mask]= self.target_q_network(self.non_final_next_state_batch).gather(1,a_m_non_final_next_states)\n",
        "        expected_state_action_values = self.reward_batch + GAMMA*next_state_values\n",
        "        self.q_network.train()\n",
        "        criterion = nn.SmoothL1Loss()\n",
        "        loss = criterion(state_action_values, expected_state_action_values) \n",
        "        self.loss_history.append(loss.item())\n",
        "        self.q_network.optimizer.zero_grad()\n",
        "        loss.backward()\n",
        "        self.q_network.optimizer.step()\n",
        "        return expected_state_action_values \n",
        "\n",
        "    \n",
        "  "
      ],
      "metadata": {
        "id": "SdnFW2XH29kJ"
      },
      "execution_count": 2,
      "outputs": []
    },
    {
      "cell_type": "code",
      "source": [
        "env=gym.make('CartPole-v1')\n",
        "complete_episode=0\n",
        "policy_net = DDQN(4,128,2)\n",
        "print(\"Show max, min and mean every 100 episodes.\")\n",
        "print(\"episode max min mean\")\n",
        "\n",
        "max=0\n",
        "history=[]\n",
        "mean_tmp=[]\n",
        "mean_history=[]\n",
        "min=500\n",
        "\n",
        "for episode in range(3000):\n",
        "  step=0\n",
        "  done=False\n",
        "  state = env.reset()\n",
        "  state=torch.from_numpy(state).float().unsqueeze(0)\n",
        "\n",
        "\n",
        "  while not done:\n",
        "    step+=1\n",
        "    action = policy_net.get_action(state,episode)\n",
        "    next_state,reward,done,_=env.step(action.item())\n",
        "    next_state = torch.from_numpy(next_state).float().unsqueeze(0)\n",
        "    if done:\n",
        "      next_state=None\n",
        "      if step>200:\n",
        "        complete_episode+=1\n",
        "      else:\n",
        "        complete_episode=0\n",
        "\n",
        "    reward=torch.tensor([reward]).float().unsqueeze(0)\n",
        "    policy_net.memory.push(state, action, reward, next_state)\n",
        "    state=next_state\n",
        "\n",
        "    policy_net.replay()\n",
        "  history.append(step)\n",
        "  mean_tmp.append(step)\n",
        "\n",
        "  if step>max:\n",
        "    max=step\n",
        "  if step<min:\n",
        "    min=step\n",
        "\n",
        " \n",
        "  if (episode+1) %100==0 and episode!=0:\n",
        "    mean100=mean(mean_tmp)\n",
        "    mean_history.append(mean100)\n",
        "    print(\" \",episode+1,\" \", max,\" \",min,mean100)\n",
        "    mean_tmp=[]\n",
        "    max=0   \n",
        "    min=500\n",
        "\n",
        "\n",
        "\n",
        "\n",
        "    "
      ],
      "metadata": {
        "colab": {
          "base_uri": "https://localhost:8080/"
        },
        "id": "1oMLR8zE3F6i",
        "outputId": "06580339-f552-472b-9949-7a1feca2b9ef"
      },
      "execution_count": 7,
      "outputs": [
        {
          "output_type": "stream",
          "name": "stdout",
          "text": [
            "Show max, min and mean every 100 episodes.\n",
            "episode max min mean\n",
            "  100   54   9 20.32\n",
            "  200   88   10 22.94\n",
            "  300   113   10 30.07\n",
            "  400   151   10 47.58\n",
            "  500   172   11 71.42\n",
            "  600   304   13 116.42\n",
            "  700   500   36 295.93\n",
            "  800   500   76 455.42\n",
            "  900   500   34 460.33\n",
            "  1000   500   69 487.48\n",
            "  1100   500   68 481.77\n",
            "  1200   500   110 492.99\n",
            "  1300   500   235 497.1\n",
            "  1400   500   500 500\n",
            "  1500   500   500 500\n",
            "  1600   500   500 500\n",
            "  1700   500   49 479.95\n",
            "  1800   500   129 483.31\n",
            "  1900   500   157 496.57\n",
            "  2000   500   500 500\n",
            "  2100   500   214 497.14\n",
            "  2200   500   500 500\n",
            "  2300   500   39 491.82\n",
            "  2400   500   500 500\n",
            "  2500   500   500 500\n",
            "  2600   500   500 500\n",
            "  2700   500   128 490.02\n",
            "  2800   500   133 485.53\n",
            "  2900   500   151 493.98\n",
            "  3000   500   21 491.01\n"
          ]
        }
      ]
    },
    {
      "cell_type": "code",
      "source": [
        "y=history\n",
        "x=range(0,len(y))\n",
        "plt.plot(x,y)\n",
        "plt.show()"
      ],
      "metadata": {
        "colab": {
          "base_uri": "https://localhost:8080/",
          "height": 430
        },
        "id": "0RKo9Cpa7h91",
        "outputId": "f6099f5c-1dde-4611-c7d0-9d71c2a52c03"
      },
      "execution_count": 16,
      "outputs": [
        {
          "output_type": "display_data",
          "data": {
            "text/plain": [
              "<Figure size 640x480 with 1 Axes>"
            ],
            "image/png": "[encoded data removed]"
          },
          "metadata": {}
        }
      ]
    },
    {
      "cell_type": "code",
      "source": [
        "y=mean_history\n",
        "x=range(0,len(y))\n",
        "plt.plot(x,y)\n",
        "plt.show()"
      ],
      "metadata": {
        "colab": {
          "base_uri": "https://localhost:8080/",
          "height": 430
        },
        "id": "ryLYjnHIOaL0",
        "outputId": "039485cb-f95b-4c33-df27-e79191f4ec41"
      },
      "execution_count": 17,
      "outputs": [
        {
          "output_type": "display_data",
          "data": {
            "text/plain": [
              "<Figure size 640x480 with 1 Axes>"
            ],
            "image/png": "[encoded data removed]"
          },
          "metadata": {}
        }
      ]
    }
  ]
}